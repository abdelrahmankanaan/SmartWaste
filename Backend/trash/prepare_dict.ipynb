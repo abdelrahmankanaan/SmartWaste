{
 "cells": [
  {
   "cell_type": "code",
   "execution_count": 1,
   "metadata": {},
   "outputs": [],
   "source": [
    "import pandas as pd "
   ]
  },
  {
   "cell_type": "code",
   "execution_count": 6,
   "metadata": {},
   "outputs": [
    {
     "name": "stdout",
     "output_type": "stream",
     "text": [
      "df.shape (438, 1)\n"
     ]
    },
    {
     "data": {
      "application/vnd.microsoft.datawrangler.viewer.v0+json": {
       "columns": [
        {
         "name": "index",
         "rawType": "int64",
         "type": "integer"
        },
        {
         "name": "Ingredients",
         "rawType": "object",
         "type": "string"
        }
       ],
       "conversionMethod": "pd.DataFrame",
       "ref": "16de787a-b9c5-4763-bf77-0a8139ac360c",
       "rows": [
        [
         "0",
         "allspice"
        ],
        [
         "1",
         "almond"
        ],
        [
         "2",
         "all-purpose flour"
        ],
        [
         "3",
         "amaretti"
        ],
        [
         "4",
         "anchovy"
        ]
       ],
       "shape": {
        "columns": 1,
        "rows": 5
       }
      },
      "text/html": [
       "<div>\n",
       "<style scoped>\n",
       "    .dataframe tbody tr th:only-of-type {\n",
       "        vertical-align: middle;\n",
       "    }\n",
       "\n",
       "    .dataframe tbody tr th {\n",
       "        vertical-align: top;\n",
       "    }\n",
       "\n",
       "    .dataframe thead th {\n",
       "        text-align: right;\n",
       "    }\n",
       "</style>\n",
       "<table border=\"1\" class=\"dataframe\">\n",
       "  <thead>\n",
       "    <tr style=\"text-align: right;\">\n",
       "      <th></th>\n",
       "      <th>Ingredients</th>\n",
       "    </tr>\n",
       "  </thead>\n",
       "  <tbody>\n",
       "    <tr>\n",
       "      <th>0</th>\n",
       "      <td>allspice</td>\n",
       "    </tr>\n",
       "    <tr>\n",
       "      <th>1</th>\n",
       "      <td>almond</td>\n",
       "    </tr>\n",
       "    <tr>\n",
       "      <th>2</th>\n",
       "      <td>all-purpose flour</td>\n",
       "    </tr>\n",
       "    <tr>\n",
       "      <th>3</th>\n",
       "      <td>amaretti</td>\n",
       "    </tr>\n",
       "    <tr>\n",
       "      <th>4</th>\n",
       "      <td>anchovy</td>\n",
       "    </tr>\n",
       "  </tbody>\n",
       "</table>\n",
       "</div>"
      ],
      "text/plain": [
       "         Ingredients\n",
       "0           allspice\n",
       "1             almond\n",
       "2  all-purpose flour\n",
       "3           amaretti\n",
       "4            anchovy"
      ]
     },
     "execution_count": 6,
     "metadata": {},
     "output_type": "execute_result"
    }
   ],
   "source": [
    "df = pd.read_csv(\"data/ingredients_2_original.csv\")\n",
    "print(f\"df.shape {df.shape}\")\n",
    "df.head()"
   ]
  },
  {
   "cell_type": "code",
   "execution_count": 14,
   "metadata": {},
   "outputs": [
    {
     "data": {
      "application/vnd.microsoft.datawrangler.viewer.v0+json": {
       "columns": [
        {
         "name": "index",
         "rawType": "int64",
         "type": "integer"
        },
        {
         "name": "Ingredients",
         "rawType": "object",
         "type": "string"
        }
       ],
       "conversionMethod": "pd.DataFrame",
       "ref": "58f2209e-9629-4e78-9e6b-3266d0ebb9e5",
       "rows": [
        [
         "2",
         "all-purpose flour"
        ],
        [
         "6",
         "apple juice"
        ],
        [
         "8",
         "artichoke heart"
        ],
        [
         "11",
         "asparagus spear"
        ],
        [
         "16",
         "baked beans"
        ],
        [
         "17",
         "balsamic vinegar"
        ],
        [
         "22",
         "bay leaf"
        ],
        [
         "23",
         "bay leaves"
        ],
        [
         "26",
         "beef mince"
        ],
        [
         "27",
         "beef brisket"
        ],
        [
         "28",
         "beef stock"
        ],
        [
         "29",
         "bell pepper"
        ],
        [
         "35",
         "black olive"
        ],
        [
         "36",
         "black pepper"
        ],
        [
         "37",
         "black-eyed peas"
        ],
        [
         "40",
         "bonnet chilli"
        ],
        [
         "43",
         "braising steak"
        ],
        [
         "48",
         "bbq sauce"
        ],
        [
         "49",
         "habanero sauce"
        ],
        [
         "53",
         "brown rice"
        ],
        [
         "54",
         "brown sauce"
        ],
        [
         "55",
         "brown sugar"
        ],
        [
         "62",
         "butternut squash"
        ],
        [
         "69",
         "canola oil"
        ],
        [
         "72",
         "caraway seed"
        ],
        [
         "77",
         "caster sugar"
        ],
        [
         "78",
         "cayenne pepper"
        ],
        [
         "84",
         "cheddar cheese"
        ],
        [
         "88",
         "cherry tomatoe"
        ],
        [
         "91",
         "chicken breast"
        ],
        [
         "92",
         "chicken drumstick"
        ],
        [
         "93",
         "chicken stock"
        ],
        [
         "94",
         "chicken thigh"
        ],
        [
         "95",
         "chicken leg"
        ],
        [
         "114",
         "clarified butter"
        ],
        [
         "118",
         "orange essence"
        ],
        [
         "119",
         "almond essence"
        ],
        [
         "120",
         "coconut milk"
        ],
        [
         "124",
         "condensed milk"
        ],
        [
         "126",
         "coriander leaves"
        ],
        [
         "134",
         "cranberry juice"
        ],
        [
         "136",
         "single cream"
        ],
        [
         "137",
         "double cream"
        ],
        [
         "138",
         "sour cream"
        ],
        [
         "139",
         "crﾏme fraiche"
        ],
        [
         "146",
         "dijon mustard"
        ],
        [
         "149",
         "edamame bean"
        ],
        [
         "155",
         "fillet steak"
        ],
        [
         "156",
         "filo pastry"
        ],
        [
         "161",
         "foie gras"
        ]
       ],
       "shape": {
        "columns": 1,
        "rows": 113
       }
      },
      "text/html": [
       "<div>\n",
       "<style scoped>\n",
       "    .dataframe tbody tr th:only-of-type {\n",
       "        vertical-align: middle;\n",
       "    }\n",
       "\n",
       "    .dataframe tbody tr th {\n",
       "        vertical-align: top;\n",
       "    }\n",
       "\n",
       "    .dataframe thead th {\n",
       "        text-align: right;\n",
       "    }\n",
       "</style>\n",
       "<table border=\"1\" class=\"dataframe\">\n",
       "  <thead>\n",
       "    <tr style=\"text-align: right;\">\n",
       "      <th></th>\n",
       "      <th>Ingredients</th>\n",
       "    </tr>\n",
       "  </thead>\n",
       "  <tbody>\n",
       "    <tr>\n",
       "      <th>2</th>\n",
       "      <td>all-purpose flour</td>\n",
       "    </tr>\n",
       "    <tr>\n",
       "      <th>6</th>\n",
       "      <td>apple juice</td>\n",
       "    </tr>\n",
       "    <tr>\n",
       "      <th>8</th>\n",
       "      <td>artichoke heart</td>\n",
       "    </tr>\n",
       "    <tr>\n",
       "      <th>11</th>\n",
       "      <td>asparagus spear</td>\n",
       "    </tr>\n",
       "    <tr>\n",
       "      <th>16</th>\n",
       "      <td>baked beans</td>\n",
       "    </tr>\n",
       "    <tr>\n",
       "      <th>...</th>\n",
       "      <td>...</td>\n",
       "    </tr>\n",
       "    <tr>\n",
       "      <th>430</th>\n",
       "      <td>worcestershire sauce</td>\n",
       "    </tr>\n",
       "    <tr>\n",
       "      <th>432</th>\n",
       "      <td>yellow pepper</td>\n",
       "    </tr>\n",
       "    <tr>\n",
       "      <th>433</th>\n",
       "      <td>greek yoghurt</td>\n",
       "    </tr>\n",
       "    <tr>\n",
       "      <th>434</th>\n",
       "      <td>natural yoghurt</td>\n",
       "    </tr>\n",
       "    <tr>\n",
       "      <th>437</th>\n",
       "      <td>red onion</td>\n",
       "    </tr>\n",
       "  </tbody>\n",
       "</table>\n",
       "<p>113 rows × 1 columns</p>\n",
       "</div>"
      ],
      "text/plain": [
       "              Ingredients\n",
       "2       all-purpose flour\n",
       "6             apple juice\n",
       "8         artichoke heart\n",
       "11        asparagus spear\n",
       "16            baked beans\n",
       "..                    ...\n",
       "430  worcestershire sauce\n",
       "432         yellow pepper\n",
       "433         greek yoghurt\n",
       "434       natural yoghurt\n",
       "437             red onion\n",
       "\n",
       "[113 rows x 1 columns]"
      ]
     },
     "execution_count": 14,
     "metadata": {},
     "output_type": "execute_result"
    }
   ],
   "source": [
    "def extract_multiword_rows(df, column_name=\"Ingredients\", threshold=1):\n",
    "    return df[df[column_name].str.split().str.len() > threshold]\n",
    "\n",
    "filtered_df = df[df[\"Ingredients\"].str.split().str.len() <= 2]\n",
    "\n",
    "filtered_df = extract_multiword_rows(filtered_df, threshold=1)\n",
    "filtered_df"
   ]
  }
 ],
 "metadata": {
  "kernelspec": {
   "display_name": "base",
   "language": "python",
   "name": "python3"
  },
  "language_info": {
   "codemirror_mode": {
    "name": "ipython",
    "version": 3
   },
   "file_extension": ".py",
   "mimetype": "text/x-python",
   "name": "python",
   "nbconvert_exporter": "python",
   "pygments_lexer": "ipython3",
   "version": "3.11.5"
  }
 },
 "nbformat": 4,
 "nbformat_minor": 2
}
