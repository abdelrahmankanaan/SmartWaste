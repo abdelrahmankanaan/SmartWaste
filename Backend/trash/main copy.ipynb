{
 "cells": [
  {
   "cell_type": "code",
   "execution_count": 1,
   "metadata": {},
   "outputs": [],
   "source": [
    "import pandas as pd \n",
    "import re \n",
    "import inflect"
   ]
  },
  {
   "cell_type": "code",
   "execution_count": 2,
   "metadata": {},
   "outputs": [
    {
     "name": "stdout",
     "output_type": "stream",
     "text": [
      "df.shape (94, 3)\n"
     ]
    },
    {
     "data": {
      "application/vnd.microsoft.datawrangler.viewer.v0+json": {
       "columns": [
        {
         "name": "index",
         "rawType": "int64",
         "type": "integer"
        },
        {
         "name": "Source",
         "rawType": "object",
         "type": "string"
        },
        {
         "name": "Dish",
         "rawType": "object",
         "type": "string"
        },
        {
         "name": "Ingredients",
         "rawType": "object",
         "type": "string"
        }
       ],
       "conversionMethod": "pd.DataFrame",
       "ref": "9aed4365-760a-451b-87b2-973e36fbd162",
       "rows": [
        [
         "0",
         "20210422-LU-RePa-Report.pdf",
         "Baba ghanouj",
         "Aubergines, garlic cloves, lemon juice, tahini, pomegranate seeds, salt"
        ],
        [
         "1",
         "20210422-LU-RePa-Report.pdf",
         "Batata mehchi",
         "Lamb ground, onions, butter, salt, pepper, pine nuts, potato, tomato juice"
        ],
        [
         "2",
         "20210422-LU-RePa-Report.pdf",
         "Borgul bi banadoura",
         "Coarse bulgur wheat, small pearl onions, chickpeas, cinnamon stick, caraway seed, vegetable oil, mild white pepper, salt"
        ],
        [
         "3",
         "20210422-LU-RePa-Report.pdf",
         "Chichbarak",
         "Chichbarak Dough: multi-purpose flour, salt, water warm to form a paste, yeast, sugar; Meat Stuffing: ground beef, salt to taste, black pepper to taste, cinnamon powder to taste, onion finely chopped, pine nuts, olive oil, bushel of parsley chopped; Chich Barak Stew: yogurt, water, starch, garlic cloves crushed (optional), rice, dried mint, salt to taste"
        ],
        [
         "4",
         "20210422-LU-RePa-Report.pdf",
         "Falafel",
         "Dry peeled fava beans dried chickpeas (aka Garbanzo beans), Italian parsley (chop away the stems), green cilantro (chop away the stems), freshly peeled crushed garlic cloves, red or yellow onion, green onions, salt, black pepper, flour, baking soda, red chili pepper (optional, if spicy falafel is desired), cumin, coriander; Falafel Tahini Sauce: Tahini paste, freshly squeezed lemon juice, garlic cloves, crushed, salt"
        ]
       ],
       "shape": {
        "columns": 3,
        "rows": 5
       }
      },
      "text/html": [
       "<div>\n",
       "<style scoped>\n",
       "    .dataframe tbody tr th:only-of-type {\n",
       "        vertical-align: middle;\n",
       "    }\n",
       "\n",
       "    .dataframe tbody tr th {\n",
       "        vertical-align: top;\n",
       "    }\n",
       "\n",
       "    .dataframe thead th {\n",
       "        text-align: right;\n",
       "    }\n",
       "</style>\n",
       "<table border=\"1\" class=\"dataframe\">\n",
       "  <thead>\n",
       "    <tr style=\"text-align: right;\">\n",
       "      <th></th>\n",
       "      <th>Source</th>\n",
       "      <th>Dish</th>\n",
       "      <th>Ingredients</th>\n",
       "    </tr>\n",
       "  </thead>\n",
       "  <tbody>\n",
       "    <tr>\n",
       "      <th>0</th>\n",
       "      <td>20210422-LU-RePa-Report.pdf</td>\n",
       "      <td>Baba ghanouj</td>\n",
       "      <td>Aubergines, garlic cloves, lemon juice, tahini...</td>\n",
       "    </tr>\n",
       "    <tr>\n",
       "      <th>1</th>\n",
       "      <td>20210422-LU-RePa-Report.pdf</td>\n",
       "      <td>Batata mehchi</td>\n",
       "      <td>Lamb ground, onions, butter, salt, pepper, pin...</td>\n",
       "    </tr>\n",
       "    <tr>\n",
       "      <th>2</th>\n",
       "      <td>20210422-LU-RePa-Report.pdf</td>\n",
       "      <td>Borgul bi banadoura</td>\n",
       "      <td>Coarse bulgur wheat, small pearl onions, chick...</td>\n",
       "    </tr>\n",
       "    <tr>\n",
       "      <th>3</th>\n",
       "      <td>20210422-LU-RePa-Report.pdf</td>\n",
       "      <td>Chichbarak</td>\n",
       "      <td>Chichbarak Dough: multi-purpose flour, salt, w...</td>\n",
       "    </tr>\n",
       "    <tr>\n",
       "      <th>4</th>\n",
       "      <td>20210422-LU-RePa-Report.pdf</td>\n",
       "      <td>Falafel</td>\n",
       "      <td>Dry peeled fava beans dried chickpeas (aka Gar...</td>\n",
       "    </tr>\n",
       "  </tbody>\n",
       "</table>\n",
       "</div>"
      ],
      "text/plain": [
       "                        Source                 Dish  \\\n",
       "0  20210422-LU-RePa-Report.pdf         Baba ghanouj   \n",
       "1  20210422-LU-RePa-Report.pdf        Batata mehchi   \n",
       "2  20210422-LU-RePa-Report.pdf  Borgul bi banadoura   \n",
       "3  20210422-LU-RePa-Report.pdf           Chichbarak   \n",
       "4  20210422-LU-RePa-Report.pdf              Falafel   \n",
       "\n",
       "                                         Ingredients  \n",
       "0  Aubergines, garlic cloves, lemon juice, tahini...  \n",
       "1  Lamb ground, onions, butter, salt, pepper, pin...  \n",
       "2  Coarse bulgur wheat, small pearl onions, chick...  \n",
       "3  Chichbarak Dough: multi-purpose flour, salt, w...  \n",
       "4  Dry peeled fava beans dried chickpeas (aka Gar...  "
      ]
     },
     "execution_count": 2,
     "metadata": {},
     "output_type": "execute_result"
    }
   ],
   "source": [
    "df = pd.read_csv(\"data/lebanese-dishes.csv\")\n",
    "print(f\"df.shape {df.shape}\")\n",
    "df.head()"
   ]
  },
  {
   "cell_type": "code",
   "execution_count": 3,
   "metadata": {},
   "outputs": [
    {
     "name": "stdout",
     "output_type": "stream",
     "text": [
      "df_dic.shape (436, 3)\n"
     ]
    },
    {
     "data": {
      "application/vnd.microsoft.datawrangler.viewer.v0+json": {
       "columns": [
        {
         "name": "index",
         "rawType": "int64",
         "type": "integer"
        },
        {
         "name": "Old Ingredients",
         "rawType": "object",
         "type": "string"
        },
        {
         "name": "Main Ingredient",
         "rawType": "object",
         "type": "unknown"
        },
        {
         "name": "Nb Words",
         "rawType": "int64",
         "type": "integer"
        }
       ],
       "conversionMethod": "pd.DataFrame",
       "ref": "63490768-5904-4973-8b11-73be942010a0",
       "rows": [
        [
         "0",
         "allspice",
         null,
         "1"
        ],
        [
         "1",
         "almond",
         null,
         "1"
        ],
        [
         "2",
         "all-purpose flour",
         "flour",
         "2"
        ],
        [
         "3",
         "amaretti",
         null,
         "1"
        ],
        [
         "4",
         "anchovy",
         null,
         "1"
        ]
       ],
       "shape": {
        "columns": 3,
        "rows": 5
       }
      },
      "text/html": [
       "<div>\n",
       "<style scoped>\n",
       "    .dataframe tbody tr th:only-of-type {\n",
       "        vertical-align: middle;\n",
       "    }\n",
       "\n",
       "    .dataframe tbody tr th {\n",
       "        vertical-align: top;\n",
       "    }\n",
       "\n",
       "    .dataframe thead th {\n",
       "        text-align: right;\n",
       "    }\n",
       "</style>\n",
       "<table border=\"1\" class=\"dataframe\">\n",
       "  <thead>\n",
       "    <tr style=\"text-align: right;\">\n",
       "      <th></th>\n",
       "      <th>Old Ingredients</th>\n",
       "      <th>Main Ingredient</th>\n",
       "      <th>Nb Words</th>\n",
       "    </tr>\n",
       "  </thead>\n",
       "  <tbody>\n",
       "    <tr>\n",
       "      <th>0</th>\n",
       "      <td>allspice</td>\n",
       "      <td>NaN</td>\n",
       "      <td>1</td>\n",
       "    </tr>\n",
       "    <tr>\n",
       "      <th>1</th>\n",
       "      <td>almond</td>\n",
       "      <td>NaN</td>\n",
       "      <td>1</td>\n",
       "    </tr>\n",
       "    <tr>\n",
       "      <th>2</th>\n",
       "      <td>all-purpose flour</td>\n",
       "      <td>flour</td>\n",
       "      <td>2</td>\n",
       "    </tr>\n",
       "    <tr>\n",
       "      <th>3</th>\n",
       "      <td>amaretti</td>\n",
       "      <td>NaN</td>\n",
       "      <td>1</td>\n",
       "    </tr>\n",
       "    <tr>\n",
       "      <th>4</th>\n",
       "      <td>anchovy</td>\n",
       "      <td>NaN</td>\n",
       "      <td>1</td>\n",
       "    </tr>\n",
       "  </tbody>\n",
       "</table>\n",
       "</div>"
      ],
      "text/plain": [
       "     Old Ingredients Main Ingredient  Nb Words\n",
       "0           allspice             NaN         1\n",
       "1             almond             NaN         1\n",
       "2  all-purpose flour           flour         2\n",
       "3           amaretti             NaN         1\n",
       "4            anchovy             NaN         1"
      ]
     },
     "execution_count": 3,
     "metadata": {},
     "output_type": "execute_result"
    }
   ],
   "source": [
    "df_dic = pd.read_csv(\"data/ingredients_2.csv\")\n",
    "print(f\"df_dic.shape {df_dic.shape}\")\n",
    "df_dic.head()"
   ]
  },
  {
   "cell_type": "code",
   "execution_count": 5,
   "metadata": {},
   "outputs": [
    {
     "name": "stdout",
     "output_type": "stream",
     "text": [
      "Data is collected from 2 sources\n",
      "There is 344 ingredients\n",
      "Nb Ingredients per Recipes: Min=4, Max=18\n",
      "Dict 427\n"
     ]
    }
   ],
   "source": [
    "ingredients = set([ingredient.strip().lower() for sublist in df[\"Ingredients\"].str.split(',') for ingredient in sublist])\n",
    "ingredients_dic = set([ingredient.strip().lower() for ingredient in df_dic[\"Old Ingredients\"] ])\n",
    "\n",
    "num_ingredients_per_recipe = df['Ingredients'].str.split(',').apply(len)\n",
    "\n",
    "print(f\"Data is collected from {df['Source'].nunique()} sources\")\n",
    "print(f\"There is {len(ingredients)} ingredients\")\n",
    "print(f\"Nb Ingredients per Recipes: Min={num_ingredients_per_recipe.min()}, Max={num_ingredients_per_recipe.max()}\")\n",
    "\n",
    "print(f\"Dict {len(ingredients_dic)}\")"
   ]
  },
  {
   "cell_type": "code",
   "execution_count": 6,
   "metadata": {},
   "outputs": [
    {
     "name": "stdout",
     "output_type": "stream",
     "text": [
      "sunflower oil -> sunflower oil\n",
      "sunflower oil -> oil\n",
      "vegetable oil -> vegetable oil\n",
      "vegetable oil -> oil\n",
      "corn oil -> oil\n",
      "corn oil -> corn\n",
      "vegetable oils -> vegetable oil\n",
      "vegetable oils -> oil\n",
      "olive oil -> oil\n",
      "olive oil -> olive\n",
      "olive oil -> olive oil\n"
     ]
    }
   ],
   "source": [
    "for ing in ingredients: \n",
    "    if len(ing.split()) != 2 or \"oil\" not in ing: \n",
    "        continue \n",
    "    for dict in ingredients_dic: \n",
    "        if dict in ing: \n",
    "            print(f\"{ing} -> {dict}\")\n"
   ]
  },
  {
   "cell_type": "markdown",
   "metadata": {},
   "source": [
    "we will conduct a series of actions to clean the text and extract the ingredients we need"
   ]
  },
  {
   "cell_type": "code",
   "execution_count": 5,
   "metadata": {},
   "outputs": [
    {
     "name": "stdout",
     "output_type": "stream",
     "text": [
      "sugar. sugar syrup ingredients: sugar\n",
      "sugar; meat stuffing: ground beef\n",
      "freshly peeled crushed garlic cloves\n",
      "blossom water. filling ingredients: water\n",
      "if spicy falafel is desired)\n",
      "kallaj sheets. kashta ingredients: milk\n",
      "rose water. hulled unsalted pistachio\n",
      "rose water for filling: walnuts\n",
      "unsalted butter at room temperature\n",
      "piquant post spicy mint blend\n",
      "blanched almonds plus whole almonds\n",
      "salt and pepper to taste\n",
      "finely ground beef (or lamb\n",
      "fried nuts almond and cashew\n",
      "few drops of pomegranate molasses\n"
     ]
    }
   ],
   "source": [
    "# def clean_ingredient(ingredient):\n",
    "#     ingredient = re.sub(r'[^a-zA-Z\\s]', '', ingredient) # keep only letters and spaces\n",
    "#     return ingredient.strip().lower()\n",
    "\n",
    "# # Stopwords to remove\n",
    "# remove_words = {\"a\", \"pinch\", \"of\", \"or\", \"and\", \"ingredients\", \"dissolved\", \"with\", \"cream\"}\n",
    "\n",
    "# \n",
    "# {p.singular_noun(ingredient) or ingredient for ingredient in ingredients if len(ingredient.split(\" \")) == 1}\n",
    "\n",
    "units = {\"cup\", \"cups\", \"tbsp\", \"tsp\", \"teaspoon\", \"tablespoon\", \"grams\", \"g\", \"kg\", \"oz\", \"ml\", \"liter\"}\n",
    "details = {\"paste\", \"dough\"}\n",
    "main_ingredients = {\"chicken\", \"oil\", \"cheese\"} \n",
    "\n",
    "p = inflect.engine()\n",
    "\n",
    "def keep_letters_and_spaces(ingredient): \n",
    "    return re.sub(r'[^a-zA-Z\\s]', '', ingredient)\n",
    "    \n",
    "def to_singular(ingredient): \n",
    "    return p.singular_noun(ingredient) or ingredient\n",
    "\n",
    "def unwantted_single_word(ingredient): \n",
    "    lst = [\"minced\", \"melted\", \"diced\", \"grilled\", \"herb\", # verbs \n",
    "           \"water\", \"bread\", \"pepper\", \"salt\", \"sugar\", \"vegetable\"]    \n",
    "    return \"\" if len(ingredient.split()) == 1 and ingredient in lst else ingredient \n",
    "\n",
    "def remove_quantities(ingredient):\n",
    "    words = ingredient.split()\n",
    "    words = [word for word in words if not re.match(r\"^\\d+/?\\d*$\", word) and word not in units and word not in details]\n",
    "    return \" \".join(words)\n",
    "\n",
    "def map_ingredients(ingredient): \n",
    "    for main_ingredient in main_ingredients: \n",
    "        if main_ingredient in ingredient: \n",
    "            return main_ingredient\n",
    "    return ingredient\n",
    "\n",
    "threshold_test = 5\n",
    "\n",
    "for ing in ingredients: \n",
    "    if len(ing.split()) == threshold_test: \n",
    "        print(ing)\n",
    "    # ing_0 = ing\n",
    "    # ing = keep_letters_and_spaces(ing)\n",
    "    # ing = to_singular(ing)\n",
    "    # ing = unwantted_single_word(ing)\n",
    "    # ing = remove_quantities(ing)\n",
    "    # ing = map_ingredients(ing)\n",
    "    \n",
    "    # if ing != ing_0: \n",
    "    #     print(f\"{ing_0} -> {ing}\")\n",
    "    # else: \n",
    "    #     print(f\"{ing}\")\n",
    "\n"
   ]
  },
  {
   "cell_type": "code",
   "execution_count": 7,
   "metadata": {},
   "outputs": [
    {
     "name": "stdout",
     "output_type": "stream",
     "text": [
      "['roasted pistachio mixture', '', 'green coriander', 'garlic', 'tamarind sauce', 'free-range chicken', 'cheese or nuts', 'all spice', 'shoulder of lamb', 'bread', 'sugar; meat stuffing:  beef', 'lettuces or romaine lettuce', 'eggplant', 'carrot', 'paprika', 'cold water', 'coarse bulgur wheat', 'green onions', 'liquid whipping cream', 'salt and black pepper', 'kallaj sheets. kashta ingredients: milk', 'cream', 'hulled unsalted pistachios', 'caraway butter', 'red lemon blossom', 'egg', 'lamb cubed', 'sea bass', 'shredded phyllo dough', 'basmati rice', 'honey', 'fragrant sugar syrup. walnuts', 'pita bread', 'parsley', 'thin dough', 'dry mint', 'green cardamoms', 'onions (finely )', 'krefeh packet', 'chicken or rabbit', 'dry peeled fava beans  chickpeas (aka garbanzo beans)', 'potato', 'red chili pepper (optional', 'fine powdered sugar', 'rose syrup. sugar', 'unsalted diced butter', 'dry instant yeast', 'radishes', 'blanched almonds', 'liquid cream', 'and cinnamon', 'chickpeas', 'peppers)', 'extra virgin olive oil', 'bulgur cracked wheat', 'sugar syrup', 'aubergines', 'clarified melted butter', 'cardamom', 'sheets of phyllo pastry', 'saffron', 'heavy cream', 'unsalted butter melted', 'knefeh dough', 'lean)', 'corn stretch', 'black pepper to taste', 'peeled', 'rose water. hulled unsalted pistachio', 'meat', 'fried nuts almond and cashew', 'thinly  pistachios', 'garlic sauce', 'tahina to grease the baking tray', 'garlic   (optional)', 'fish', 'finely  beef (or lamb', 'kashta', 'small grains mastic finely grounded to yield powdered mastic', 'blanched toasted almonds', 'cherry tomatoes', 'vanilla pod', 'sweetened condensed milk', 'bushel of parsley ; chich barak stew: yogurt', 'egg whites', 'rose water for filling: walnuts', 'full-fat milk', 'sugar cherry', 'cold milk', 'salt and pepper to taste', 'pickles', 'wheat', 'cheese or cream', 'lemon blossom and grated pistachio for decoration', 'sugar alcohol. filling ingredients: hulled unsalted pistachios', 'sumac', 'sweetened lemon blossom', 'ripe tomatoes', 'nutmeg', 'pistachios or walnuts', 'sunflower oil', 'caramelized onions', 'bulgur wheat', 'spring roll dough', 'blanched almonds plus  almonds', 'baker yeast', 'lime', 'organic sugar cane', 'cilantro', 'basil', 'grounded mahlab', 'phyllo dough', 'pearl onions', 'red pepper', 'molokhia', 'tomato juice', 'extra-virgin olive oil', 'debs roman', 'rose water. superfine sugar', 'yogurt', 'extra-fine semolina', 'pepper', 'cauliflower', 'corn oil', 'chichbarak dough: multi-purpose flour', 'water warm to form a paste', 'tahini sauce', 'jameed ( yogurt)', 'rose syrup. akkawi cheese or ricotta mixed with mozarella', 'cinnamon', 'pomegranate seeds', 'jute', 'fried onions', 'melted ghee', \"confectioners' sugar\", 'vermicelli', 'freshly squeezed lemon juice', 'short-grain rice', 'unsalted butter', 'sunflower oil for frying. sugar syrup', 'chicken or lamb', 'egg white', 'white toast', 'water. sugar syrup: sugar', 'grounded walnuts', 'chicory greens', 'grilled fish', 'blossom water', 'orange blossom water', 'italian parsley (chop away the stems)', 'salt to taste', 'tahini and vinegar', 'onion finely', 'flower water', 'few drops of pomegranate molasses', 'cans of  tomatoes', 'stuffed vegetables (zucchini', 'melted', 'grounded mastic with sugar', 'green or coral lentils', 'fragrant sugar syrup', 'unsalted softened butter', 'macaroni', 'flat leaf parsley', 'icing sugar for dusting fine  walnuts', 'grounded almonds', 'vegetables', 'tomato sauce', 'small zucchini', 'and cornstarch. sugar syrup ingredients: sugar', 'almond extract', 'grated mozarella cheese', 'garlic vinegar sauce', 'unsalted butter at room temperature', 'liquid honey (optional)', 'tomato paste', 'grounded nutmeg', 'scaled and gutted or in fillets', 'water and tomatoes', 'phyllo pastry sheets', 'caraway seeds', 'vanilla', 'green cilantro (chop away the stems)', 'lemon blossom', 'sugar. sugar syrup ingredients: sugar', 'salt and pepper', 'flat-leaf parsley mint', 'flour (ferkha)', 'cinnamon stick', 'coriander', 'sweet dough', 'milk', 'akkawi cheese', 'small pearl onions', 'mint', 'zest of orange', 'lemon juice', 'bell peppers', 'starch', 'onions', 'cornstarch', 'lamb', 'sesame seeds (lightly toasted)', 'pine nuts', 'cucumbers', 'coriander; falafel tahini sauce: tahini paste', 'yellow or white onion', 'baking', 'grounded finely walnuts', 'spring onions', 'clarified chilled butter', 'piquant post spicy mint blend', 'green colorant', 'sesame seeds', 'ghee', 'cumin', '7 spices', 'mild white pepper', 'water or chicken stock', 'almonds', 'corn flour', 'chicken', \"akkawi cheese or cow's milk mozarella\", 'frozen bag green beans', 'icing sugar for dusting.  pitted dates', 'short grain rice', 'lukewarm water', 'grilled', 'pistachio liquid cream', 'okra', 'lentils', 'small grains mastic to yield powdered mastic', \"bakers' yeast\", 'vegetable oil and salt', 'caraway seed', '\"hair\" pastry', 'active dry yeast dissolved with sugar in water. cream ingredients: egg whites', 'fava beans', 'flat-leaf parsley', 'unsalted melted butter', 'of garlic', 'pita chips or crusty bread for dipping', 'tomato', 'blossom water. filling ingredients: water', 'shallots', 'melted butter', 'corn starch sugar syrup ingredients: sugar', 'semolina', 'rice', 'chili peppers', 'tahini', 'pitta bread', 'liquid vanilla', 'pines nuts', 'flowers for decoration', 'if spicy falafel is desired)', 'blanched  almonds', 'white haricot beans', 'icing sugar', 'eggs', 'onion', 'pistachio', 'salt and sweet pepper to taste', 'potatoes', 'cinnamon  to taste', 'aubergine', 'granulated sugar', 'rose water', 'red vinegar', 'pistachios', 'fine sugar', 'sugar alcohol', 'almonds or pistachios', 'presoaked and drained short-grain white rice', 'broad beans', 'date syrup', 'fish stock', 'vegetable oils', 'freshly peeled  garlic', 'black peppercorns', 'regular semolina', 'vine', 'basic vegetables stuffing', 'cream liquid milk', 'low-salt chickpeas', 'instant dry yeast', 'sweetened concentrated milk', 'superfine sugar', 'fine semolina', 'instant yeast', 'cabbage', 'mahlab', 'red or yellow onion', 'unbleached all-purpose flour', 'grounded cinnamon', 'spinach', 'medium fat meat', 'caster sugar', 'fast-acting (instant) yeast', 'broth', 'fragrant sugar syrup. filling ingredients: hulled unsalted pistachios', 'egg yolks', 'pistachios. sugar syrup ingredients: sugar', 'a pinch of salt', 'grounded aniseed', 'plain white flour', 'turmeric', 'low-salt diced tomatoes', 'hazelnut', 'diced', 'dry dough']\n"
     ]
    }
   ],
   "source": [
    "import re\n",
    "from collections import defaultdict\n",
    "\n",
    "# Define non-essential ingredients (stopword list)\n",
    "NON_ESSENTIAL_INGREDIENTS = {\n",
    "    \"water\", \"salt\", \"black pepper\", \"sugar\", \"oil\", \"olive oil\",\n",
    "    \"butter\", \"flour\", \"vinegar\", \"spices\", \"herbs\", \"yeast\",\n",
    "    \"baking powder\", \"baking soda\"\n",
    "}\n",
    "\n",
    "# Define synonym mappings\n",
    "SYNONYM_MAPPING = {\n",
    "    \"olive oil\": \"oil\",\n",
    "    \"vegetable oil\": \"oil\",\n",
    "    \"canola oil\": \"oil\",\n",
    "    \"tomatoes\": \"tomato\",\n",
    "    \"chicken breast\": \"chicken\",\n",
    "    \"chicken thigh\": \"chicken\",\n",
    "    \"chicken wings\": \"chicken\",\n",
    "    \"beef steak\": \"beef\",\n",
    "    \"red onions\": \"onion\",\n",
    "    \"white onions\": \"onion\",\n",
    "    \"garlic cloves\": \"garlic\",\n",
    "    \"fresh basil\": \"basil\",\n",
    "    \"dried basil\": \"basil\",\n",
    "    \"coriander leaves\": \"coriander\",\n",
    "    \"coriander powder\": \"coriander\"\n",
    "}\n",
    "\n",
    "# Function to clean and normalize ingredients\n",
    "def normalize_ingredients(ingredient_list):\n",
    "    cleaned_ingredients = set()  # Use a set to avoid duplicates\n",
    "    \n",
    "    for ingredient in ingredient_list:\n",
    "        # Convert to lowercase\n",
    "        ingredient = ingredient.lower().strip()\n",
    "\n",
    "        # Remove extra descriptive words (like \"chopped\", \"fresh\", \"dried\")\n",
    "        ingredient = re.sub(r\"\\b(fresh|dried|chopped|sliced|minced|crushed|powder|ground|whole|cloves|leaves|pieces)\\b\", \"\", ingredient).strip()\n",
    "\n",
    "        # Map to synonym if exists\n",
    "        if ingredient in SYNONYM_MAPPING:\n",
    "            ingredient = SYNONYM_MAPPING[ingredient]\n",
    "\n",
    "        # Remove non-essential ingredients\n",
    "        if ingredient not in NON_ESSENTIAL_INGREDIENTS:\n",
    "            cleaned_ingredients.add(ingredient)\n",
    "    \n",
    "    return list(cleaned_ingredients)\n",
    "\n",
    "# Example usage\n",
    "# raw_ingredients = [\"Fresh Basil\", \"Garlic Cloves\", \"Olive Oil\", \"Chicken Breast\", \"Salt\", \"Black Pepper\", \"Red Onions\"]\n",
    "raw_ingredients = ingredients.copy()\n",
    "cleaned_ingredients = normalize_ingredients(raw_ingredients)\n",
    "print(cleaned_ingredients)\n"
   ]
  }
 ],
 "metadata": {
  "kernelspec": {
   "display_name": "base",
   "language": "python",
   "name": "python3"
  },
  "language_info": {
   "codemirror_mode": {
    "name": "ipython",
    "version": 3
   },
   "file_extension": ".py",
   "mimetype": "text/x-python",
   "name": "python",
   "nbconvert_exporter": "python",
   "pygments_lexer": "ipython3",
   "version": "3.11.5"
  }
 },
 "nbformat": 4,
 "nbformat_minor": 2
}
